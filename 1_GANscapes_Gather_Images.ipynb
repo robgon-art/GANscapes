{
  "nbformat": 4,
  "nbformat_minor": 0,
  "metadata": {
    "colab": {
      "name": "1 GANscapes Gather Images",
      "provenance": [],
      "authorship_tag": "ABX9TyP3hioTKzX0XmyBWP6GLWPq",
      "include_colab_link": true
    },
    "kernelspec": {
      "name": "python3",
      "display_name": "Python 3"
    }
  },
  "cells": [
    {
      "cell_type": "markdown",
      "metadata": {
        "id": "view-in-github",
        "colab_type": "text"
      },
      "source": [
        "<a href=\"https://colab.research.google.com/github/robgon-art/GANscapes/blob/main/1_GANscapes_Gather_Images.ipynb\" target=\"_parent\"><img src=\"https://colab.research.google.com/assets/colab-badge.svg\" alt=\"Open In Colab\"/></a>"
      ]
    },
    {
      "cell_type": "code",
      "metadata": {
        "colab": {
          "base_uri": "https://localhost:8080/"
        },
        "id": "JZMf_VvYUDpM",
        "outputId": "1bd66e0b-6618-418e-be6b-2e7059a34ccd"
      },
      "source": [
        "from google.colab import drive\n",
        "drive.mount('/content/gdrive')"
      ],
      "execution_count": null,
      "outputs": [
        {
          "output_type": "stream",
          "text": [
            "Mounted at /content/gdrive\n"
          ],
          "name": "stdout"
        }
      ]
    },
    {
      "cell_type": "code",
      "metadata": {
        "id": "tD_7h5mc01N0"
      },
      "source": [
        "!mkdir /content/gdrive/MyDrive/impressionist_landscapes"
      ],
      "execution_count": null,
      "outputs": []
    },
    {
      "cell_type": "code",
      "metadata": {
        "colab": {
          "base_uri": "https://localhost:8080/"
        },
        "id": "rWz2n1NvSRtd",
        "outputId": "fc0485ee-5ea1-4afb-8223-69581c5a2e33"
      },
      "source": [
        "import urllib\n",
        "import re\n",
        "from bs4 import BeautifulSoup\n",
        "import time\n",
        "\n",
        "file_path = \"/content/gdrive/MyDrive/impressionist_landscapes\"\n",
        "base_url = \"https://www.wikiart.org\"\n",
        "\n",
        "# iterate through all artists by last name alphabetically\n",
        "# like this https://www.wikiart.org/en/Alphabet/m/text-list\n",
        "for c in range(ord('a'), ord('z') + 1):\n",
        "  char = chr(c)\n",
        "  artist_list_url = base_url + \"/en/Alphabet/\" + char + \"/text-list\"\n",
        "  print(artist_list_url)\n",
        "\n",
        "  genre_soup = BeautifulSoup(urllib.request.urlopen(artist_list_url), \"lxml\")\n",
        "  artist_list_main = genre_soup.find(\"main\")\n",
        "  lis = artist_list_main.find_all(\"li\")\n",
        "\n",
        "  # for each list element\n",
        "  for li in lis: \n",
        "    born = 0\n",
        "    died = 0\n",
        "\n",
        "    # get the date range\n",
        "    for line in li.text.splitlines():\n",
        "      if line.startswith(\",\") and \"-\" in line:\n",
        "        parts = line.split('-')\n",
        "        if len(parts) == 2:\n",
        "          born = int(re.sub(\"[^0-9]\", \"\",parts[0]))\n",
        "          died = int(re.sub(\"[^0-9]\", \"\",parts[1]))\n",
        "\n",
        "    # look for artists who may have created work that could in public domain\n",
        "    if born>1800 and died>0 and died<1950:\n",
        "      link = li.find(\"a\")\n",
        "      artist = link.attrs[\"href\"]\n",
        "\n",
        "      # get the artist's main page\n",
        "      artist_url = base_url + artist\n",
        "      artist_soup = BeautifulSoup(urllib.request.urlopen(artist_url), \"lxml\")\n",
        "\n",
        "      # only look for artists with the word abstract on their main page\n",
        "      if \"Impressionism\" in artist_soup.text and not \"Impressionist\" in artist_soup.text:\n",
        "        print(artist + \" \" + str(born) + \" - \" + str(died))\n",
        "\n",
        "        # get the artist's web page for the artwork\n",
        "        url = base_url + artist + '/all-works/text-list'\n",
        "        artist_work_soup = BeautifulSoup(urllib.request.urlopen(url), \"lxml\")\n",
        "\n",
        "        # get the main section\n",
        "        artist_main = artist_work_soup.find(\"main\")\n",
        "        image_count = 0\n",
        "        artist_name = artist.split(\"/\")[2]\n",
        "\n",
        "        # get the list of artwork\n",
        "        lis = artist_main.find_all(\"li\")\n",
        "\n",
        "        # for each list element\n",
        "        for li in lis:\n",
        "          link = li.find(\"a\")\n",
        "\n",
        "          if link != None:\n",
        "            painting = link.attrs[\"href\"]\n",
        "\n",
        "            # get the painting\n",
        "            url = base_url + painting\n",
        "            print(url)\n",
        "\n",
        "            try:\n",
        "              painting_soup = BeautifulSoup(urllib.request.urlopen(url), \"lxml\")\n",
        "\n",
        "            except:\n",
        "              print(\"error retreiving page\")\n",
        "              continue\n",
        "\n",
        "            # check the copyright\n",
        "            if \"Public domain\" in painting_soup.text:\n",
        "\n",
        "              #check the genre\n",
        "              genre = painting_soup.find(\"span\", {\"itemprop\":\"genre\"})\n",
        "              if genre != None and genre.text == \"landscape\":\n",
        "\n",
        "                # get the url\n",
        "                og_image = painting_soup.find(\"meta\", {\"property\":\"og:image\"})\n",
        "                image_url = og_image[\"content\"].split(\"!\")[0] # ignore the !Large.jpg at the end\n",
        "                print(image_url)\n",
        "\n",
        "                parts = url.split(\"/\")\n",
        "                painting_name = parts[-1]\n",
        "                save_path = file_path + \"/\" + artist_name + \"_\" + painting_name + \".jpg\"\n",
        "\n",
        "                #download the file\n",
        "                try:\n",
        "                  print(\"downloading to \" + save_path)\n",
        "                  time.sleep(0.2)  # try not to get a 403                    \n",
        "                  urllib.request.urlretrieve(image_url, save_path)\n",
        "                  image_count = image_count + 1\n",
        "                except Exception as e:\n",
        "                  print(\"failed downloading \" + image_url, e) "
      ],
      "execution_count": null,
      "outputs": [
        {
          "output_type": "stream",
          "text": [
            "https://www.wikiart.org/en/Alphabet/a/text-list\n",
            "https://www.wikiart.org/en/Alphabet/b/text-list\n",
            "https://www.wikiart.org/en/Alphabet/c/text-list\n",
            "https://www.wikiart.org/en/Alphabet/d/text-list\n",
            "https://www.wikiart.org/en/Alphabet/e/text-list\n",
            "https://www.wikiart.org/en/Alphabet/f/text-list\n",
            "https://www.wikiart.org/en/Alphabet/g/text-list\n",
            "https://www.wikiart.org/en/Alphabet/h/text-list\n",
            "https://www.wikiart.org/en/Alphabet/i/text-list\n",
            "https://www.wikiart.org/en/Alphabet/j/text-list\n",
            "https://www.wikiart.org/en/Alphabet/k/text-list\n",
            "https://www.wikiart.org/en/Alphabet/l/text-list\n",
            "https://www.wikiart.org/en/Alphabet/m/text-list\n",
            "https://www.wikiart.org/en/Alphabet/n/text-list\n",
            "https://www.wikiart.org/en/Alphabet/o/text-list\n",
            "https://www.wikiart.org/en/Alphabet/p/text-list\n",
            "https://www.wikiart.org/en/Alphabet/q/text-list\n",
            "https://www.wikiart.org/en/Alphabet/r/text-list\n",
            "https://www.wikiart.org/en/Alphabet/s/text-list\n",
            "https://www.wikiart.org/en/Alphabet/t/text-list\n",
            "https://www.wikiart.org/en/Alphabet/u/text-list\n",
            "https://www.wikiart.org/en/Alphabet/v/text-list\n",
            "https://www.wikiart.org/en/Alphabet/w/text-list\n",
            "https://www.wikiart.org/en/Alphabet/x/text-list\n",
            "https://www.wikiart.org/en/Alphabet/y/text-list\n",
            "https://www.wikiart.org/en/Alphabet/z/text-list\n"
          ],
          "name": "stdout"
        }
      ]
    }
  ]
}